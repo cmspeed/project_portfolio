{
 "cells": [
  {
   "cell_type": "markdown",
   "metadata": {},
   "source": [
    "### Final Project for Applied Computation\n",
    "Compiled by Cole Speed <br>\n",
    "Fall 2021<br>\n",
    "University of Texas at Austin"
   ]
  },
  {
   "cell_type": "markdown",
   "metadata": {},
   "source": [
    "### Motivation and Goal\n",
    "Numerous dune fields are visible across the surface of Mars. While the distribution of dune fields is relatively well-known, the form and composition of Martian dune fields remains poorly understood. Here we seek to develop a workflow that integrates very high-resolution thermal imagery of Mars and hand-mapped dune field locations to quantify relationships between dune field type and mean daytime temperature for dune fields across the Red Planet."
   ]
  },
  {
   "cell_type": "markdown",
   "metadata": {},
   "source": [
    "### Datasets\n",
    "Datasets being used: <br>\n",
    "(1) Thermal Emmission Imaging System (THEMIS) global mosaic (60S - 60N ) at 100 m/pixel resolution<br>\n",
    "(2) Mars Global Digital Dune Database (MGD3) vector shapefile for dune field locations <br>"
   ]
  },
  {
   "cell_type": "markdown",
   "metadata": {},
   "source": [
    "### Workflow/Approach\n",
    "1. Get the data in the same spatial reference (Project)\n",
    "2. Add numeric field to shapefile attribute table for classification by “dune type” (e.g. Barchan, Transverse, etc.)\n",
    "3. Create global raster of dune fields by ‘rasterizing’ dune field polygons based on “dune type”\n",
    "4. Calculate Zonal Statistics for dune field areas temperature stats for each “dune_type”. \n",
    "5. Investigate spatial relationships using Spatial Autocorrelation."
   ]
  },
  {
   "cell_type": "markdown",
   "metadata": {},
   "source": [
    "### Import Packages and Set Environmental Variables"
   ]
  },
  {
   "cell_type": "code",
   "execution_count": 1,
   "metadata": {},
   "outputs": [],
   "source": [
    "import arcpy\n",
    "from arcpy import env\n",
    "import os\n",
    "import numpy as np\n",
    "import geopandas as gpd\n",
    "from arcpy.sa import *"
   ]
  },
  {
   "cell_type": "code",
   "execution_count": 2,
   "metadata": {},
   "outputs": [
    {
     "data": {
      "text/plain": [
       "'CheckedOut'"
      ]
     },
     "execution_count": 2,
     "metadata": {},
     "output_type": "execute_result"
    }
   ],
   "source": [
    "arcpy.CheckOutExtension(\"Spatial\")"
   ]
  },
  {
   "cell_type": "code",
   "execution_count": 3,
   "metadata": {},
   "outputs": [],
   "source": [
    "path = r'C:\\Users\\Cole\\Dropbox\\Courses\\Applied_Geocomputation\\project\\data'"
   ]
  },
  {
   "cell_type": "code",
   "execution_count": 4,
   "metadata": {},
   "outputs": [],
   "source": [
    "env.workspace = path"
   ]
  },
  {
   "cell_type": "code",
   "execution_count": 5,
   "metadata": {},
   "outputs": [],
   "source": [
    "arcpy.env.overwriteOutput = True"
   ]
  },
  {
   "cell_type": "markdown",
   "metadata": {},
   "source": [
    "### Load and inspect shapefiles for dunefields on mars"
   ]
  },
  {
   "cell_type": "code",
   "execution_count": 6,
   "metadata": {},
   "outputs": [],
   "source": [
    "shplist = [f for f in os.listdir(path+'\\shapefiles') if f.endswith(\"shp\")]"
   ]
  },
  {
   "cell_type": "code",
   "execution_count": 7,
   "metadata": {},
   "outputs": [
    {
     "data": {
      "text/plain": [
       "['DF_MGD3.shp']"
      ]
     },
     "execution_count": 7,
     "metadata": {},
     "output_type": "execute_result"
    }
   ],
   "source": [
    "shplist"
   ]
  },
  {
   "cell_type": "code",
   "execution_count": 8,
   "metadata": {},
   "outputs": [],
   "source": [
    "MGD3 = path+'\\shapefiles\\\\'+shplist[0]"
   ]
  },
  {
   "cell_type": "code",
   "execution_count": 9,
   "metadata": {},
   "outputs": [
    {
     "data": {
      "text/html": [
       "<style>.rendered_html td, .rendered_html th {text-align: left}table td#td0  {font-weight: bold}</style><table><tr><td id=\"td0\">type</td><td>Geographic</td></tr><tr><td id=\"td0\">name</td><td>GCS_Mars_2000</td></tr><tr><td id=\"td0\">factoryCode</td><td>104905</td></tr><tr><td id=\"td0\">datumName</td><td>D_Mars_2000</td></tr><tr><td id=\"td0\">angularUnitName</td><td>Degree</td></tr></table>"
      ],
      "text/plain": [
       "<geoprocessing spatial reference object at 0x1e8ad399370>"
      ]
     },
     "execution_count": 9,
     "metadata": {},
     "output_type": "execute_result"
    }
   ],
   "source": [
    "arcpy.Describe(MGD3).spatialReference"
   ]
  },
  {
   "cell_type": "markdown",
   "metadata": {},
   "source": [
    "We see that the spatial references differ. These will be projected to match in the \"Data Processing\" portion of the notebook."
   ]
  },
  {
   "cell_type": "code",
   "execution_count": 10,
   "metadata": {},
   "outputs": [],
   "source": [
    "desc_MGD3 = arcpy.Describe(MGD3)"
   ]
  },
  {
   "cell_type": "code",
   "execution_count": 11,
   "metadata": {},
   "outputs": [
    {
     "name": "stdout",
     "output_type": "stream",
     "text": [
      "FID                    : OID\n",
      "Shape                  : Geometry\n",
      "Shape_Leng             : Double\n",
      "Shape_Area             : Double\n",
      "Dune_Lon               : Double\n",
      "Dune_Lat               : Double\n",
      "Dune_ID                : String\n",
      "Dune_Type              : String\n",
      "B_1                    : String\n",
      "Bd_1                   : String\n",
      "D_1                    : String\n",
      "L_1                    : String\n",
      "S_1                    : String\n",
      "SS_1                   : String\n",
      "T_1                    : String\n",
      "U_1                    : String\n",
      "Confidence             : String\n",
      "Type_Image             : String\n",
      "Area_sinu_             : Double\n",
      "MDHeight               : Double\n",
      "Volume_1               : Double\n",
      "Volume_2               : Double\n",
      "Avg_El                 : Integer\n",
      "CcDcAzimut             : Double\n",
      "SF_1_Az                : Double\n",
      "SF_1_Count             : SmallInteger\n",
      "SF_2_Azimu             : Double\n",
      "SF_2_Count             : SmallInteger\n",
      "SF_3_Azimu             : Double\n",
      "SF_3_Count             : SmallInteger\n",
      "SF_4_Azimu             : Double\n",
      "SF_4_Count             : SmallInteger\n",
      "Environ                : String\n",
      "Cr_Lon_Eas             : Double\n",
      "Cr_Lat                 : Double\n",
      "Crater_BID             : String\n",
      "Cr_Area_si             : Double\n",
      "Cr_Diam_1              : Double\n",
      "Mars_5M_Ch             : SmallInteger\n",
      "IR                     : String\n",
      "VIS                    : String\n",
      "MOC                    : String\n",
      "Comments_1             : String\n"
     ]
    }
   ],
   "source": [
    "for field in desc_MGD3.fields:\n",
    "    print(\"%-22s %s %s\" % (field.name, \":\", field.type))\n",
    "    #print field.name + \" = \" + field.type"
   ]
  },
  {
   "cell_type": "markdown",
   "metadata": {},
   "source": [
    "It will be easier to visualize the kind of data we are working by viewing the first few rows of the attribute table. To do this we create a geopandas dataframe for our shapefile. "
   ]
  },
  {
   "cell_type": "code",
   "execution_count": 12,
   "metadata": {
    "scrolled": true
   },
   "outputs": [
    {
     "data": {
      "text/html": [
       "<div>\n",
       "<style scoped>\n",
       "    .dataframe tbody tr th:only-of-type {\n",
       "        vertical-align: middle;\n",
       "    }\n",
       "\n",
       "    .dataframe tbody tr th {\n",
       "        vertical-align: top;\n",
       "    }\n",
       "\n",
       "    .dataframe thead th {\n",
       "        text-align: right;\n",
       "    }\n",
       "</style>\n",
       "<table border=\"1\" class=\"dataframe\">\n",
       "  <thead>\n",
       "    <tr style=\"text-align: right;\">\n",
       "      <th></th>\n",
       "      <th>Shape_Leng</th>\n",
       "      <th>Shape_Area</th>\n",
       "      <th>Dune_Lon</th>\n",
       "      <th>Dune_Lat</th>\n",
       "      <th>Dune_ID</th>\n",
       "      <th>Dune_Type</th>\n",
       "      <th>B_1</th>\n",
       "      <th>Bd_1</th>\n",
       "      <th>D_1</th>\n",
       "      <th>L_1</th>\n",
       "      <th>...</th>\n",
       "      <th>Cr_Lat</th>\n",
       "      <th>Crater_BID</th>\n",
       "      <th>Cr_Area_si</th>\n",
       "      <th>Cr_Diam_1</th>\n",
       "      <th>Mars_5M_Ch</th>\n",
       "      <th>IR</th>\n",
       "      <th>VIS</th>\n",
       "      <th>MOC</th>\n",
       "      <th>Comments_1</th>\n",
       "      <th>geometry</th>\n",
       "    </tr>\n",
       "  </thead>\n",
       "  <tbody>\n",
       "    <tr>\n",
       "      <th>0</th>\n",
       "      <td>149822.358907</td>\n",
       "      <td>4.242661e+08</td>\n",
       "      <td>28.963860</td>\n",
       "      <td>50.116277</td>\n",
       "      <td>0289+501</td>\n",
       "      <td>B, Bd</td>\n",
       "      <td>1</td>\n",
       "      <td>1</td>\n",
       "      <td>0</td>\n",
       "      <td>0</td>\n",
       "      <td>...</td>\n",
       "      <td>50.359016</td>\n",
       "      <td>0292+503</td>\n",
       "      <td>35698.749656</td>\n",
       "      <td>213.197322</td>\n",
       "      <td>5</td>\n",
       "      <td>I01522009</td>\n",
       "      <td>V01185004, V01522010, V13492005</td>\n",
       "      <td>E0302501, M1900242</td>\n",
       "      <td>None</td>\n",
       "      <td>POLYGON ((28.95935 50.01387, 28.94613 50.00412...</td>\n",
       "    </tr>\n",
       "    <tr>\n",
       "      <th>1</th>\n",
       "      <td>18156.580334</td>\n",
       "      <td>1.346222e+07</td>\n",
       "      <td>59.766060</td>\n",
       "      <td>36.991779</td>\n",
       "      <td>0597+369</td>\n",
       "      <td>Bd, U</td>\n",
       "      <td>0</td>\n",
       "      <td>1</td>\n",
       "      <td>0</td>\n",
       "      <td>0</td>\n",
       "      <td>...</td>\n",
       "      <td>36.981607</td>\n",
       "      <td>0598+369</td>\n",
       "      <td>186.160618</td>\n",
       "      <td>15.395690</td>\n",
       "      <td>5</td>\n",
       "      <td>I02507005, I04392008</td>\n",
       "      <td>V02507006</td>\n",
       "      <td>E1004763</td>\n",
       "      <td>None</td>\n",
       "      <td>POLYGON ((59.72737 37.02275, 59.72838 37.02275...</td>\n",
       "    </tr>\n",
       "    <tr>\n",
       "      <th>2</th>\n",
       "      <td>352484.404425</td>\n",
       "      <td>6.778119e+08</td>\n",
       "      <td>44.349411</td>\n",
       "      <td>41.722687</td>\n",
       "      <td>0443+417</td>\n",
       "      <td>B, Bd</td>\n",
       "      <td>1</td>\n",
       "      <td>1</td>\n",
       "      <td>0</td>\n",
       "      <td>0</td>\n",
       "      <td>...</td>\n",
       "      <td>41.802380</td>\n",
       "      <td>0446+418</td>\n",
       "      <td>12430.821804</td>\n",
       "      <td>125.807103</td>\n",
       "      <td>5</td>\n",
       "      <td>I01122002, I03656007</td>\n",
       "      <td>V01122003, V10384008,  V11919009,  V12518004</td>\n",
       "      <td>E0100550, E0300309, M1202264, R0200939</td>\n",
       "      <td>None</td>\n",
       "      <td>POLYGON ((43.96887 41.76218, 43.97274 41.76887...</td>\n",
       "    </tr>\n",
       "    <tr>\n",
       "      <th>3</th>\n",
       "      <td>23597.611733</td>\n",
       "      <td>1.486876e+07</td>\n",
       "      <td>64.980467</td>\n",
       "      <td>34.240573</td>\n",
       "      <td>0649+342</td>\n",
       "      <td>B, Bd, T</td>\n",
       "      <td>1</td>\n",
       "      <td>1</td>\n",
       "      <td>0</td>\n",
       "      <td>0</td>\n",
       "      <td>...</td>\n",
       "      <td>0.000000</td>\n",
       "      <td>0</td>\n",
       "      <td>0.000000</td>\n",
       "      <td>0.000000</td>\n",
       "      <td>6</td>\n",
       "      <td>I01995006</td>\n",
       "      <td>V09909013</td>\n",
       "      <td>None</td>\n",
       "      <td>None</td>\n",
       "      <td>POLYGON ((65.00043 34.27721, 65.00094 34.26580...</td>\n",
       "    </tr>\n",
       "    <tr>\n",
       "      <th>4</th>\n",
       "      <td>67519.564651</td>\n",
       "      <td>1.759504e+08</td>\n",
       "      <td>12.955661</td>\n",
       "      <td>15.997274</td>\n",
       "      <td>0129+159</td>\n",
       "      <td>SS</td>\n",
       "      <td>0</td>\n",
       "      <td>0</td>\n",
       "      <td>0</td>\n",
       "      <td>0</td>\n",
       "      <td>...</td>\n",
       "      <td>16.085122</td>\n",
       "      <td>0129+160</td>\n",
       "      <td>5002.952526</td>\n",
       "      <td>79.812044</td>\n",
       "      <td>12</td>\n",
       "      <td>I08195012</td>\n",
       "      <td>V01797007, V11271005, V11583005,</td>\n",
       "      <td>M0902670, R1004453</td>\n",
       "      <td>dune truncated at image margin</td>\n",
       "      <td>POLYGON ((12.97881 16.12480, 12.99243 16.05120...</td>\n",
       "    </tr>\n",
       "  </tbody>\n",
       "</table>\n",
       "<p>5 rows × 42 columns</p>\n",
       "</div>"
      ],
      "text/plain": [
       "      Shape_Leng    Shape_Area   Dune_Lon   Dune_Lat   Dune_ID Dune_Type B_1  \\\n",
       "0  149822.358907  4.242661e+08  28.963860  50.116277  0289+501     B, Bd   1   \n",
       "1   18156.580334  1.346222e+07  59.766060  36.991779  0597+369     Bd, U   0   \n",
       "2  352484.404425  6.778119e+08  44.349411  41.722687  0443+417     B, Bd   1   \n",
       "3   23597.611733  1.486876e+07  64.980467  34.240573  0649+342  B, Bd, T   1   \n",
       "4   67519.564651  1.759504e+08  12.955661  15.997274  0129+159        SS   0   \n",
       "\n",
       "  Bd_1 D_1 L_1  ...     Cr_Lat Crater_BID    Cr_Area_si   Cr_Diam_1  \\\n",
       "0    1   0   0  ...  50.359016   0292+503  35698.749656  213.197322   \n",
       "1    1   0   0  ...  36.981607   0598+369    186.160618   15.395690   \n",
       "2    1   0   0  ...  41.802380   0446+418  12430.821804  125.807103   \n",
       "3    1   0   0  ...   0.000000          0      0.000000    0.000000   \n",
       "4    0   0   0  ...  16.085122   0129+160   5002.952526   79.812044   \n",
       "\n",
       "  Mars_5M_Ch                    IR  \\\n",
       "0          5             I01522009   \n",
       "1          5  I02507005, I04392008   \n",
       "2          5  I01122002, I03656007   \n",
       "3          6             I01995006   \n",
       "4         12             I08195012   \n",
       "\n",
       "                                            VIS  \\\n",
       "0               V01185004, V01522010, V13492005   \n",
       "1                                     V02507006   \n",
       "2  V01122003, V10384008,  V11919009,  V12518004   \n",
       "3                                     V09909013   \n",
       "4              V01797007, V11271005, V11583005,   \n",
       "\n",
       "                                      MOC                      Comments_1  \\\n",
       "0                      E0302501, M1900242                            None   \n",
       "1                                E1004763                            None   \n",
       "2  E0100550, E0300309, M1202264, R0200939                            None   \n",
       "3                                    None                            None   \n",
       "4                      M0902670, R1004453  dune truncated at image margin   \n",
       "\n",
       "                                            geometry  \n",
       "0  POLYGON ((28.95935 50.01387, 28.94613 50.00412...  \n",
       "1  POLYGON ((59.72737 37.02275, 59.72838 37.02275...  \n",
       "2  POLYGON ((43.96887 41.76218, 43.97274 41.76887...  \n",
       "3  POLYGON ((65.00043 34.27721, 65.00094 34.26580...  \n",
       "4  POLYGON ((12.97881 16.12480, 12.99243 16.05120...  \n",
       "\n",
       "[5 rows x 42 columns]"
      ]
     },
     "execution_count": 12,
     "metadata": {},
     "output_type": "execute_result"
    }
   ],
   "source": [
    "gdf = gpd.read_file(MGD3)\n",
    "gdf.head()"
   ]
  },
  {
   "cell_type": "markdown",
   "metadata": {},
   "source": [
    "The \"Dune_Type\" field is the field of interest, but it is a string which is not useful for raster classification. The next 8 fields further describe the type of dune field with a 0 if that type of dune isn't present and a 1 if it is. These columns are more useful to us, but it we need them as numeric values. We will create a new field \"Kind_of_Dune\" which will have 8-bit integer type representing the type of dune field. An arcpy SearchCursor is used to populate the \"Kind_of_Dune\" field with a value corresponding to the dune type. This will be completed in \"Data Processing\" below."
   ]
  },
  {
   "cell_type": "markdown",
   "metadata": {},
   "source": [
    "### Load Mars THEMIS raster\n",
    "This takes a while...it is a 100m/pixel raster covering the entire equatorial region of Mars (60S-60N) and is 22GB!!!"
   ]
  },
  {
   "cell_type": "code",
   "execution_count": 13,
   "metadata": {},
   "outputs": [],
   "source": [
    "themis_day = path + r'\\rasters\\Mars_MO_THEMIS-IR-Day_mosaic_global_100m_v12.tif'"
   ]
  },
  {
   "cell_type": "code",
   "execution_count": 14,
   "metadata": {},
   "outputs": [
    {
     "name": "stdout",
     "output_type": "stream",
     "text": [
      "Data type is: 3\n"
     ]
    }
   ],
   "source": [
    "dtype = arcpy.GetRasterProperties_management(themis_day, \"VALUETYPE\")\n",
    "dtvalue = dtype.getOutput(0)\n",
    "print(f\"Data type is: {dtvalue}\")"
   ]
  },
  {
   "cell_type": "code",
   "execution_count": 15,
   "metadata": {},
   "outputs": [],
   "source": [
    "dtype_dict = {0: \"1-bit\",\n",
    "              1: \"2-bit\",\n",
    "              2: \"4-bit\",\n",
    "              3: \"8-bit integer\"}"
   ]
  },
  {
   "cell_type": "code",
   "execution_count": 16,
   "metadata": {},
   "outputs": [
    {
     "name": "stdout",
     "output_type": "stream",
     "text": [
      "Data type is: 8-bit integer\n"
     ]
    }
   ],
   "source": [
    "print(f\"Data type is: {dtype_dict.get(int(dtvalue))}\")"
   ]
  },
  {
   "cell_type": "code",
   "execution_count": 17,
   "metadata": {},
   "outputs": [
    {
     "name": "stdout",
     "output_type": "stream",
     "text": [
      "Cell size: 100 meters\n"
     ]
    }
   ],
   "source": [
    "cell_prop = arcpy.GetRasterProperties_management(themis_day, \"CELLSIZEX\")\n",
    "csize = cell_prop.getOutput(0)\n",
    "print(f\"Cell size: {csize} meters\")"
   ]
  },
  {
   "cell_type": "code",
   "execution_count": 18,
   "metadata": {},
   "outputs": [
    {
     "data": {
      "text/html": [
       "<style>.rendered_html td, .rendered_html th {text-align: left}table td#td0  {font-weight: bold}</style><table><tr><td id=\"td0\">type</td><td>Projected</td></tr><tr><td id=\"td0\">name</td><td>SimpleCylindrical_Mars</td></tr><tr><td id=\"td0\">factoryCode</td><td>N/A</td></tr><tr><td id=\"td0\">linearUnitName</td><td>Meter</td></tr><tr><td id=\"td0\">GCS.name</td><td>GCS_Mars</td></tr></table>"
      ],
      "text/plain": [
       "<geoprocessing spatial reference object at 0x1e8ad3b9f90>"
      ]
     },
     "execution_count": 18,
     "metadata": {},
     "output_type": "execute_result"
    }
   ],
   "source": [
    "themis_spatial_ref = arcpy.Describe(themis_day).spatialReference\n",
    "themis_spatial_ref"
   ]
  },
  {
   "cell_type": "code",
   "execution_count": 19,
   "metadata": {},
   "outputs": [],
   "source": [
    "simpCyl = themis_spatial_ref"
   ]
  },
  {
   "cell_type": "code",
   "execution_count": 20,
   "metadata": {},
   "outputs": [
    {
     "name": "stdout",
     "output_type": "stream",
     "text": [
      "xmin: -10669500.0 \n",
      "xmax: 10669500.0 \n",
      "ymin: -5334800.0 \n",
      "ymax: 5334800.0\n"
     ]
    }
   ],
   "source": [
    "desc = arcpy.Describe(themis_day)\n",
    "\n",
    "xmin = desc.extent.XMin\n",
    "xmax = desc.extent.XMax\n",
    "ymin = desc.extent.YMin\n",
    "ymax = desc.extent.YMax\n",
    "\n",
    "print (\"xmin: %s \\nxmax: %s \\nymin: %s \\nymax: %s\" % (xmin, xmax, ymin, ymax))"
   ]
  },
  {
   "cell_type": "markdown",
   "metadata": {},
   "source": [
    "We need to ensure that our analysis takes place over the same spatial extent. We can do so by using the extent of the .png raster we are using."
   ]
  },
  {
   "cell_type": "markdown",
   "metadata": {},
   "source": [
    "### Set environmental extent"
   ]
  },
  {
   "cell_type": "code",
   "execution_count": 21,
   "metadata": {},
   "outputs": [],
   "source": [
    "# Set the extent environment using a keyword.\n",
    "arcpy.env.extent = \"MAXOF\"\n",
    "\n",
    "# Set the extent environment using the Extent class.\n",
    "arcpy.env.extent = arcpy.Extent(xmin, ymin, xmax, ymax)"
   ]
  },
  {
   "cell_type": "markdown",
   "metadata": {},
   "source": [
    "The THEMIS image is a single band 8-bit integer with values ranging from 0-255 corresponding to intensity values representing average daytime temperatures on the martian surface."
   ]
  },
  {
   "cell_type": "markdown",
   "metadata": {},
   "source": [
    "### Data processing"
   ]
  },
  {
   "cell_type": "markdown",
   "metadata": {},
   "source": [
    "The CRS for the files do not match, so we need to project the shapefile data to match the raster data."
   ]
  },
  {
   "cell_type": "code",
   "execution_count": 23,
   "metadata": {},
   "outputs": [
    {
     "data": {
      "text/html": [
       "<h2>Output</h2>C:\\Users\\Cole\\Dropbox\\Courses\\Applied_Geocomputation\\project\\data\\shapefiles\\DF_MGD3_simpleCylindrical.shp<h2>Messages</h2>Start Time: Thursday, December 9, 2021 11:34:01 AM<br/>Succeeded at Thursday, December 9, 2021 11:34:01 AM (Elapsed Time: 0.31 seconds)<br/><style>.rendered_html td, .rendered_html th {text-align: left;}.rendered_html tbody {border: 1px solid black;}</style>"
      ],
      "text/plain": [
       "<Result 'C:\\\\Users\\\\Cole\\\\Dropbox\\\\Courses\\\\Applied_Geocomputation\\\\project\\\\data\\\\shapefiles\\\\DF_MGD3_simpleCylindrical.shp'>"
      ]
     },
     "execution_count": 23,
     "metadata": {},
     "output_type": "execute_result"
    }
   ],
   "source": [
    "outf = MGD3[0:84] + '_simpleCylindrical.shp'\n",
    "arcpy.management.Project(MGD3, outf, simpCyl)"
   ]
  },
  {
   "cell_type": "code",
   "execution_count": 24,
   "metadata": {},
   "outputs": [],
   "source": [
    "MGD3_simpCyl = path+'\\shapefiles\\\\DF_MGD3_simpleCylindrical.shp'"
   ]
  },
  {
   "cell_type": "markdown",
   "metadata": {},
   "source": [
    "First we add a field which will store the kind of dunefield for each feature. There are 8 kinds, so a short integer will suffice."
   ]
  },
  {
   "cell_type": "code",
   "execution_count": 25,
   "metadata": {},
   "outputs": [
    {
     "data": {
      "text/html": [
       "<h2>Output</h2>C:\\Users\\Cole\\Dropbox\\Courses\\Applied_Geocomputation\\project\\data\\shapefiles\\DF_MGD3_simpleCylindrical.shp<h2>Messages</h2>Start Time: Thursday, December 9, 2021 11:34:07 AM<br/>Adding dune_kind to DF_MGD3_simpleCylindrical...<br/>Succeeded at Thursday, December 9, 2021 11:34:08 AM (Elapsed Time: 0.04 seconds)<br/><style>.rendered_html td, .rendered_html th {text-align: left;}.rendered_html tbody {border: 1px solid black;}</style>"
      ],
      "text/plain": [
       "<Result 'C:\\\\Users\\\\Cole\\\\Dropbox\\\\Courses\\\\Applied_Geocomputation\\\\project\\\\data\\\\shapefiles\\\\DF_MGD3_simpleCylindrical.shp'>"
      ]
     },
     "execution_count": 25,
     "metadata": {},
     "output_type": "execute_result"
    }
   ],
   "source": [
    "arcpy.AddField_management(MGD3_simpCyl, \"dune_kind\", 'SHORT', 1)"
   ]
  },
  {
   "cell_type": "markdown",
   "metadata": {},
   "source": [
    "Using a Cursor and a combination of **for** and **if** loops we can populate this field by examining each of the dunetype fields and compiling the result into the 'dune_kind' field."
   ]
  },
  {
   "cell_type": "code",
   "execution_count": 26,
   "metadata": {},
   "outputs": [],
   "source": [
    "with arcpy.da.UpdateCursor(MGD3_simpCyl, ['B_1', 'Bd_1', 'D_1', 'L_1', 'S_1', 'SS_1', 'T_1', 'U_1','dune_kind']) as cursor:\n",
    "    \n",
    "    for r in cursor:\n",
    "        \n",
    "        tot = 0\n",
    "        \n",
    "        if int(r[0]) == 1:\n",
    "            \n",
    "            tot = tot + 1\n",
    "            dune_type = 0\n",
    "            \n",
    "        if int(r[1]) == 1:\n",
    "            \n",
    "            tot = tot + 1\n",
    "            dune_type = 1\n",
    "        \n",
    "        if int(r[2]) == 1:\n",
    "            \n",
    "            tot = tot + 1 \n",
    "            dune_type = 2\n",
    "       \n",
    "        if int(r[3]) == 1:\n",
    "            \n",
    "            tot = tot + 1 \n",
    "            dune_type = 3\n",
    "        \n",
    "        if int(r[4]) == 1:\n",
    "            \n",
    "            tot = tot + 1 \n",
    "            dune_type = 4\n",
    "        \n",
    "        if int(r[5]) == 1:\n",
    "            \n",
    "            tot = tot + 1\n",
    "            dune_type = 5\n",
    "        \n",
    "        if int(r[6]) == 1:\n",
    "            \n",
    "            tot = tot + 1 \n",
    "            dune_type = 6\n",
    "            \n",
    "        if int(r[7]) == 1:\n",
    "            \n",
    "            tot = tot + 1 \n",
    "            dune_type = 7\n",
    "        \n",
    "        if tot > 1:\n",
    "            \n",
    "            dune_type = 9 #mixed dune field\n",
    "\n",
    "        else:\n",
    "            \n",
    "            dune_type = dune_type\n",
    "            \n",
    "        \n",
    "        r[8] = int(dune_type)\n",
    "        cursor.updateRow(r)\n",
    "    "
   ]
  },
  {
   "cell_type": "markdown",
   "metadata": {},
   "source": [
    "Print summary statistics. Shows overwhelmingly that 'mixed' dune fields are most common. May need to further break them out and look at the results"
   ]
  },
  {
   "cell_type": "code",
   "execution_count": 27,
   "metadata": {},
   "outputs": [
    {
     "data": {
      "text/html": [
       "<div>\n",
       "<style scoped>\n",
       "    .dataframe tbody tr th:only-of-type {\n",
       "        vertical-align: middle;\n",
       "    }\n",
       "\n",
       "    .dataframe tbody tr th {\n",
       "        vertical-align: top;\n",
       "    }\n",
       "\n",
       "    .dataframe thead th {\n",
       "        text-align: right;\n",
       "    }\n",
       "</style>\n",
       "<table border=\"1\" class=\"dataframe\">\n",
       "  <thead>\n",
       "    <tr style=\"text-align: right;\">\n",
       "      <th></th>\n",
       "      <th>Shape_Leng</th>\n",
       "      <th>Shape_Area</th>\n",
       "      <th>Dune_Lon</th>\n",
       "      <th>Dune_Lat</th>\n",
       "      <th>Dune_ID</th>\n",
       "      <th>Dune_Type</th>\n",
       "      <th>B_1</th>\n",
       "      <th>Bd_1</th>\n",
       "      <th>D_1</th>\n",
       "      <th>L_1</th>\n",
       "      <th>...</th>\n",
       "      <th>Crater_BID</th>\n",
       "      <th>Cr_Area_si</th>\n",
       "      <th>Cr_Diam_1</th>\n",
       "      <th>Mars_5M_Ch</th>\n",
       "      <th>IR</th>\n",
       "      <th>VIS</th>\n",
       "      <th>MOC</th>\n",
       "      <th>Comments_1</th>\n",
       "      <th>dune_kind</th>\n",
       "      <th>geometry</th>\n",
       "    </tr>\n",
       "  </thead>\n",
       "  <tbody>\n",
       "    <tr>\n",
       "      <th>0</th>\n",
       "      <td>149822.358907</td>\n",
       "      <td>4.242661e+08</td>\n",
       "      <td>28.963860</td>\n",
       "      <td>50.116277</td>\n",
       "      <td>0289+501</td>\n",
       "      <td>B, Bd</td>\n",
       "      <td>1</td>\n",
       "      <td>1</td>\n",
       "      <td>0</td>\n",
       "      <td>0</td>\n",
       "      <td>...</td>\n",
       "      <td>0292+503</td>\n",
       "      <td>35698.749656</td>\n",
       "      <td>213.197322</td>\n",
       "      <td>5</td>\n",
       "      <td>I01522009</td>\n",
       "      <td>V01185004, V01522010, V13492005</td>\n",
       "      <td>E0302501, M1900242</td>\n",
       "      <td>None</td>\n",
       "      <td>9</td>\n",
       "      <td>POLYGON ((-8952888.976 2964557.248, -8953672.5...</td>\n",
       "    </tr>\n",
       "    <tr>\n",
       "      <th>1</th>\n",
       "      <td>18156.580334</td>\n",
       "      <td>1.346222e+07</td>\n",
       "      <td>59.766060</td>\n",
       "      <td>36.991779</td>\n",
       "      <td>0597+369</td>\n",
       "      <td>Bd, U</td>\n",
       "      <td>0</td>\n",
       "      <td>1</td>\n",
       "      <td>0</td>\n",
       "      <td>0</td>\n",
       "      <td>...</td>\n",
       "      <td>0598+369</td>\n",
       "      <td>186.160618</td>\n",
       "      <td>15.395690</td>\n",
       "      <td>5</td>\n",
       "      <td>I02507005, I04392008</td>\n",
       "      <td>V02507006</td>\n",
       "      <td>E1004763</td>\n",
       "      <td>None</td>\n",
       "      <td>9</td>\n",
       "      <td>POLYGON ((-7129123.777 2194512.096, -7129064.0...</td>\n",
       "    </tr>\n",
       "    <tr>\n",
       "      <th>2</th>\n",
       "      <td>352484.404425</td>\n",
       "      <td>6.778119e+08</td>\n",
       "      <td>44.349411</td>\n",
       "      <td>41.722687</td>\n",
       "      <td>0443+417</td>\n",
       "      <td>B, Bd</td>\n",
       "      <td>1</td>\n",
       "      <td>1</td>\n",
       "      <td>0</td>\n",
       "      <td>0</td>\n",
       "      <td>...</td>\n",
       "      <td>0446+418</td>\n",
       "      <td>12430.821804</td>\n",
       "      <td>125.807103</td>\n",
       "      <td>5</td>\n",
       "      <td>I01122002, I03656007</td>\n",
       "      <td>V01122003, V10384008,  V11919009,  V12518004</td>\n",
       "      <td>E0100550, E0300309, M1202264, R0200939</td>\n",
       "      <td>None</td>\n",
       "      <td>9</td>\n",
       "      <td>POLYGON ((-8063204.350 2475440.682, -8062974.8...</td>\n",
       "    </tr>\n",
       "    <tr>\n",
       "      <th>3</th>\n",
       "      <td>23597.611733</td>\n",
       "      <td>1.486876e+07</td>\n",
       "      <td>64.980467</td>\n",
       "      <td>34.240573</td>\n",
       "      <td>0649+342</td>\n",
       "      <td>B, Bd, T</td>\n",
       "      <td>1</td>\n",
       "      <td>1</td>\n",
       "      <td>0</td>\n",
       "      <td>0</td>\n",
       "      <td>...</td>\n",
       "      <td>0</td>\n",
       "      <td>0.000000</td>\n",
       "      <td>0.000000</td>\n",
       "      <td>6</td>\n",
       "      <td>I01995006</td>\n",
       "      <td>V09909013</td>\n",
       "      <td>None</td>\n",
       "      <td>None</td>\n",
       "      <td>9</td>\n",
       "      <td>POLYGON ((-6816564.794 2031770.971, -6816534.7...</td>\n",
       "    </tr>\n",
       "    <tr>\n",
       "      <th>4</th>\n",
       "      <td>67519.564651</td>\n",
       "      <td>1.759504e+08</td>\n",
       "      <td>12.955661</td>\n",
       "      <td>15.997274</td>\n",
       "      <td>0129+159</td>\n",
       "      <td>SS</td>\n",
       "      <td>0</td>\n",
       "      <td>0</td>\n",
       "      <td>0</td>\n",
       "      <td>0</td>\n",
       "      <td>...</td>\n",
       "      <td>0129+160</td>\n",
       "      <td>5002.952526</td>\n",
       "      <td>79.812044</td>\n",
       "      <td>12</td>\n",
       "      <td>I08195012</td>\n",
       "      <td>V01797007, V11271005, V11583005,</td>\n",
       "      <td>M0902670, R1004453</td>\n",
       "      <td>dune truncated at image margin</td>\n",
       "      <td>5</td>\n",
       "      <td>POLYGON ((-9900130.759 955792.400, -9899322.90...</td>\n",
       "    </tr>\n",
       "  </tbody>\n",
       "</table>\n",
       "<p>5 rows × 43 columns</p>\n",
       "</div>"
      ],
      "text/plain": [
       "      Shape_Leng    Shape_Area   Dune_Lon   Dune_Lat   Dune_ID Dune_Type B_1  \\\n",
       "0  149822.358907  4.242661e+08  28.963860  50.116277  0289+501     B, Bd   1   \n",
       "1   18156.580334  1.346222e+07  59.766060  36.991779  0597+369     Bd, U   0   \n",
       "2  352484.404425  6.778119e+08  44.349411  41.722687  0443+417     B, Bd   1   \n",
       "3   23597.611733  1.486876e+07  64.980467  34.240573  0649+342  B, Bd, T   1   \n",
       "4   67519.564651  1.759504e+08  12.955661  15.997274  0129+159        SS   0   \n",
       "\n",
       "  Bd_1 D_1 L_1  ... Crater_BID    Cr_Area_si   Cr_Diam_1 Mars_5M_Ch  \\\n",
       "0    1   0   0  ...   0292+503  35698.749656  213.197322          5   \n",
       "1    1   0   0  ...   0598+369    186.160618   15.395690          5   \n",
       "2    1   0   0  ...   0446+418  12430.821804  125.807103          5   \n",
       "3    1   0   0  ...          0      0.000000    0.000000          6   \n",
       "4    0   0   0  ...   0129+160   5002.952526   79.812044         12   \n",
       "\n",
       "                     IR                                           VIS  \\\n",
       "0             I01522009               V01185004, V01522010, V13492005   \n",
       "1  I02507005, I04392008                                     V02507006   \n",
       "2  I01122002, I03656007  V01122003, V10384008,  V11919009,  V12518004   \n",
       "3             I01995006                                     V09909013   \n",
       "4             I08195012              V01797007, V11271005, V11583005,   \n",
       "\n",
       "                                      MOC                      Comments_1  \\\n",
       "0                      E0302501, M1900242                            None   \n",
       "1                                E1004763                            None   \n",
       "2  E0100550, E0300309, M1202264, R0200939                            None   \n",
       "3                                    None                            None   \n",
       "4                      M0902670, R1004453  dune truncated at image margin   \n",
       "\n",
       "   dune_kind                                           geometry  \n",
       "0          9  POLYGON ((-8952888.976 2964557.248, -8953672.5...  \n",
       "1          9  POLYGON ((-7129123.777 2194512.096, -7129064.0...  \n",
       "2          9  POLYGON ((-8063204.350 2475440.682, -8062974.8...  \n",
       "3          9  POLYGON ((-6816564.794 2031770.971, -6816534.7...  \n",
       "4          5  POLYGON ((-9900130.759 955792.400, -9899322.90...  \n",
       "\n",
       "[5 rows x 43 columns]"
      ]
     },
     "execution_count": 27,
     "metadata": {},
     "output_type": "execute_result"
    }
   ],
   "source": [
    "gdf = gpd.read_file(MGD3_simpCyl)\n",
    "gdf.head()"
   ]
  },
  {
   "cell_type": "markdown",
   "metadata": {},
   "source": [
    "Now let's reproject the shapefile data to match the THEMIS raster data"
   ]
  },
  {
   "cell_type": "markdown",
   "metadata": {},
   "source": [
    "As noted above, there is a field with type string containing the dune field \"type\", and there are numeric fields with the number 1 denoting the dune field type. However, for this to be useful to us, we need a single field on which to 'rasterize' our vector data by 'dunefield type'. There are several dune fields labeled to contain multiple types of dunes - we will call these simply \"mixed dunes\". So here we add a field called \"dune type\" which will have values ranging from 1-4; (1)Barchan dunes; (2)Cresentic dunes; (3); and (4) Mixed dunes "
   ]
  },
  {
   "cell_type": "markdown",
   "metadata": {},
   "source": [
    "### Rasterize the Dune Field Polygons"
   ]
  },
  {
   "cell_type": "code",
   "execution_count": 36,
   "metadata": {},
   "outputs": [],
   "source": [
    "# Set local variables\n",
    "inFeatures = MGD3_simpCyl; valField = \"dune_kind\"; outRaster = path+ r'\\rasters\\MGD3_duneKind.tif';\n",
    "assignmentType = \"CELL_CENTER\"; priorityField = \"\"; cellSize = 100"
   ]
  },
  {
   "cell_type": "code",
   "execution_count": 37,
   "metadata": {
    "scrolled": true
   },
   "outputs": [
    {
     "data": {
      "text/html": [
       "<h2>Output</h2>C:\\Users\\Cole\\Dropbox\\Courses\\Applied_Geocomputation\\project\\data\\rasters\\MGD3_duneKind.tif<h2>Messages</h2>Start Time: Monday, December 6, 2021 12:12:05 AM<br/>Succeeded at Monday, December 6, 2021 12:25:45 AM (Elapsed Time: 13 minutes 39 seconds)<br/><style>.rendered_html td, .rendered_html th {text-align: left;}.rendered_html tbody {border: 1px solid black;}</style>"
      ],
      "text/plain": [
       "<Result 'C:\\\\Users\\\\Cole\\\\Dropbox\\\\Courses\\\\Applied_Geocomputation\\\\project\\\\data\\\\rasters\\\\MGD3_duneKind.tif'>"
      ]
     },
     "execution_count": 37,
     "metadata": {},
     "output_type": "execute_result"
    }
   ],
   "source": [
    "arcpy.conversion.PolygonToRaster(inFeatures, valField, outRaster, assignmentType, priorityField, cellSize)"
   ]
  },
  {
   "cell_type": "markdown",
   "metadata": {},
   "source": [
    "### Compute Zonal Statitistics for THEMIS pixel values for zone in our Dune Type raster\n",
    "Each pixel in the THEMIS raster corresponds to a thermal intensity. We are interested in how thermal intensity varies between dune field types. So here we get the thermal intensity values at each pixel location for the dune type raster."
   ]
  },
  {
   "cell_type": "markdown",
   "metadata": {},
   "source": [
    "We first must add a field to our dune type raster attribute table. We are also interested in the total coverage of each dune type, so we add a field for area."
   ]
  },
  {
   "cell_type": "code",
   "execution_count": 28,
   "metadata": {},
   "outputs": [],
   "source": [
    "dune_type_rast = path + r'\\rasters\\MGD3_duneKind.tif'"
   ]
  },
  {
   "cell_type": "markdown",
   "metadata": {},
   "source": [
    "We will use Zonal Statistics to determine the THEMIS intensity values for each given Dune Type class. Per [this resource](https://help.arcgis.com/en/arcgisdesktop/10.0/help/index.html#//009z000000w7000000.htm), computing zonal statistics requires both input rasters to have an attribute table. So we create one for the THEMIS dataset below (Dune Type raster already has an attribute table). "
   ]
  },
  {
   "cell_type": "code",
   "execution_count": 29,
   "metadata": {},
   "outputs": [],
   "source": [
    "daytime_stats = arcpy.BuildRasterAttributeTable_management(themis_day, \"Overwrite\")"
   ]
  },
  {
   "cell_type": "code",
   "execution_count": 30,
   "metadata": {},
   "outputs": [],
   "source": [
    "Day_ZonalStats = ZonalStatisticsAsTable(dune_type_rast, \"Value\", themis_day, \"daytime_dune_stats.dbf\", \"\", \"ALL\")"
   ]
  },
  {
   "cell_type": "code",
   "execution_count": 31,
   "metadata": {},
   "outputs": [
    {
     "data": {
      "text/html": [
       "<h2>Output</h2>C:\\Users\\Cole\\Dropbox\\Courses\\Applied_Geocomputation\\project\\data<h2>Messages</h2>Start Time: Thursday, December 9, 2021 11:53:28 AM<br/>Converted C:\\Users\\Cole\\Dropbox\\Courses\\Applied_Geocomputation\\project\\data\\daytime_dune_stats.dbf to C:\\Users\\Cole\\Dropbox\\Courses\\Applied_Geocomputation\\project\\data\\daytime_dune_stats_1.dbf successfully.<br/>Succeeded at Thursday, December 9, 2021 11:53:29 AM (Elapsed Time: 0.90 seconds)<br/><style>.rendered_html td, .rendered_html th {text-align: left;}.rendered_html tbody {border: 1px solid black;}</style>"
      ],
      "text/plain": [
       "<Result 'C:\\\\Users\\\\Cole\\\\Dropbox\\\\Courses\\\\Applied_Geocomputation\\\\project\\\\data'>"
      ]
     },
     "execution_count": 31,
     "metadata": {},
     "output_type": "execute_result"
    }
   ],
   "source": [
    "# convert to excel sheet\n",
    "arcpy.conversion.TableToDBASE(Day_ZonalStats, path)"
   ]
  },
  {
   "cell_type": "markdown",
   "metadata": {},
   "source": [
    "### Spatial Autocorrelation\n",
    "In order to investigate whether dune fields types show any internal spatial distribution patterns, we use the arcpy Spatial Autocorrelation method. This produces values for Moran I Index, Expected Index, P-, and Z-values. "
   ]
  },
  {
   "cell_type": "code",
   "execution_count": 36,
   "metadata": {},
   "outputs": [
    {
     "data": {
      "text/html": [
       "<h2>Output</h2><table><tr><th>id</th><th>value</th></tr><tr><td>0</td><td>-0.002907</td></tr><tr><td>1</td><td>-0.078974</td></tr><tr><td>2</td><td>0.937053</td></tr><tr><td>3</td><td>C:\\Users\\Cole\\AppData\\Local\\Temp\\MoransI_Result_10740_2080_1.html</td></tr></table><h2>Messages</h2>Start Time: Thursday, December 9, 2021 11:54:56 AM<br/>WARNING 000853: The default neighborhood search threshold was 2745909.3589 Meters.<br/><br/> Global Moran's I Summary<br/>Moran's Index:   -0.002907<br/>Expected Index:  -0.001832<br/>Variance:        0.000185 <br/>z-score:         -0.078974<br/>p-value:         0.937053 <br/><br/>Distance measured in Meters<br/><br/>Writing html report....<br/>C:\\Users\\Cole\\AppData\\Local\\Temp\\MoransI_Result_10740_2080_1.html<br/>Succeeded at Thursday, December 9, 2021 11:54:56 AM (Elapsed Time: 0.52 seconds)<br/><style>.rendered_html td, .rendered_html th {text-align: left;}.rendered_html tbody {border: 1px solid black;}</style>"
      ],
      "text/plain": [
       "<Result '-0.002907'>"
      ]
     },
     "execution_count": 36,
     "metadata": {},
     "output_type": "execute_result"
    }
   ],
   "source": [
    "arcpy.stats.SpatialAutocorrelation(MGD3_simpCyl, 'dune_kind', \"GENERATE_REPORT\", \"INVERSE_DISTANCE\",\"EUCLIDEAN_DISTANCE\")"
   ]
  },
  {
   "cell_type": "markdown",
   "metadata": {},
   "source": []
  }
 ],
 "metadata": {
  "kernelspec": {
   "display_name": "Python 3",
   "language": "python",
   "name": "python3"
  },
  "language_info": {
   "codemirror_mode": {
    "name": "ipython",
    "version": 3
   },
   "file_extension": ".py",
   "mimetype": "text/x-python",
   "name": "python",
   "nbconvert_exporter": "python",
   "pygments_lexer": "ipython3",
   "version": "3.7.10"
  }
 },
 "nbformat": 4,
 "nbformat_minor": 4
}
